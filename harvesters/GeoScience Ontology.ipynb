{
 "cells": [
  {
   "cell_type": "markdown",
   "metadata": {},
   "source": [
    "This is the start to a process for working through and incorporating (potentially all) aspects of the Geoscience Ontology into the GeoKB. We need to work out some conventions on exactly how this formal ontology is represented in the GeoKB Wikibase context, which may be slightly different but still functionally true to the GSO's functionality. We'll be doing some review through the contents with USGS geoscientists and then spinning up the code to process the GSO TTL sources."
   ]
  },
  {
   "cell_type": "code",
   "execution_count": 1,
   "metadata": {},
   "outputs": [],
   "source": [
    "from rdflib import Graph, Namespace, RDF, OWL, RDFS, FOAF\n",
    "import pandas as pd\n"
   ]
  },
  {
   "cell_type": "code",
   "execution_count": 2,
   "metadata": {},
   "outputs": [
    {
     "data": {
      "text/plain": [
       "<Graph identifier=Ncbda04f53a13404a85d073a08cfea2e4 (<class 'rdflib.graph.Graph'>)>"
      ]
     },
     "execution_count": 2,
     "metadata": {},
     "output_type": "execute_result"
    }
   ],
   "source": [
    "gso_master_url = \"https://raw.githubusercontent.com/Loop3D/GKM/master/Loop3D-GSO/GSO-Master.ttl\"\n",
    "gsog_url = \"https://raw.githubusercontent.com/Loop3D/GKM/master/Loop3D-GSO/GSO-Geology.ttl\"\n",
    "gsrm_url = \"https://raw.githubusercontent.com/Loop3D/GKM/master/Loop3D-GSO/Modules/GSO-Geologic_Rock_Material.ttl\"\n",
    "\n",
    "# g = Graph()\n",
    "# g.parse(gso_master_url, format=\"ttl\")\n",
    "\n",
    "# gsog = Graph()\n",
    "# gsog.parse(gsog_url, format=\"ttl\")\n",
    "\n",
    "gsrm = Graph()\n",
    "gsrm.parse(gsrm_url, format=\"ttl\")"
   ]
  },
  {
   "cell_type": "code",
   "execution_count": 3,
   "metadata": {},
   "outputs": [],
   "source": [
    "q = \"\"\"\n",
    "SELECT ?class ?class_label ?class_comment ?source ?parent ?parent_label\n",
    "WHERE {\n",
    "    ?class rdf:type owl:Class ;\n",
    "              rdfs:label ?class_label ;\n",
    "              rdfs:comment ?class_comment ;\n",
    "              dct:source ?source ;\n",
    "              rdfs:subClassOf ?parent .\n",
    "    ?parent rdfs:label ?parent_label .\n",
    "}\n",
    "\"\"\"\n",
    "\n",
    "results = []\n",
    "for row in gsrm.query(q):\n",
    "    result = {\n",
    "        \"class\": str(row[\"class\"]),\n",
    "        \"class_label\": str(row[\"class_label\"]),\n",
    "        \"class_comment\": str(row[\"class_comment\"]),\n",
    "        \"source\": str(row[\"source\"]),\n",
    "        \"parent\": str(row[\"parent\"]),\n",
    "        \"parent_label\": str(row[\"parent_label\"])\n",
    "    }\n",
    "    results.append(result)\n",
    "\n",
    "# Create a pandas dataframe from the results\n",
    "df = pd.DataFrame(results)"
   ]
  },
  {
   "cell_type": "code",
   "execution_count": 4,
   "metadata": {},
   "outputs": [],
   "source": [
    "rock_material_preview = df.groupby('class', as_index=False).agg(list)\n",
    "rock_material_preview['class_label'] = rock_material_preview['class_label'].apply(lambda x: '\\n'.join(list(set(x))))\n",
    "rock_material_preview['class_comment'] = rock_material_preview['class_comment'].apply(lambda x: '\\n'.join(list(set(x))))\n",
    "rock_material_preview['source'] = rock_material_preview['source'].apply(lambda x: '\\n'.join(list(set(x))))\n",
    "rock_material_preview['parent'] = rock_material_preview['parent'].apply(lambda x: '\\n'.join(list(set(x))))\n",
    "rock_material_preview['parent_label'] = rock_material_preview['parent_label'].apply(lambda x: '\\n'.join(list(set(x))))\n",
    "rock_material_preview.to_excel(\"/Users/sbristol/Downloads/gso_rock_materials.xlsx\", index=False)\n"
   ]
  },
  {
   "cell_type": "code",
   "execution_count": 5,
   "metadata": {},
   "outputs": [
    {
     "name": "stdout",
     "output_type": "stream",
     "text": [
      "Antonio Arribas, Jeffrey Hedenquist, 2019, Environments of advanced argillic alteration: II) steam-heated, and exploration implications: Conference: Society of Resource Geology Annual SymposiumAt: University of Tokyo, Tokyo (Japan)Volume: 69, accessed at https://www.researchgate.net/publication/334230797_Environments_of_advanced_argillic_alteration_II_steam-heated_and_exploration_implications#fullTextFileContent; Constantinos Mavrogonatos et al., 2018, Mineralogical Study of the Advanced Argillic Alteration Zone at the Konos Hill Mo–Cu–Re–Au Porphyry Prospect, NE Greece: Minerals, 8, 479; doi:10.3390/min8110479;  https://en.wikipedia.org/wiki/Argillic_alteration\n",
      "CGI alterationtype SKOS vocabulary 2012-11-24\n",
      "CGI concept definition task group\n",
      "CGI consolidationdegree SKOS vocabulary 2012-11-24\n",
      "Coutinho et al. 2007, IUGS SCMR chapter 8 (http://www.bgs.ac.uk/SCMR/)\n",
      "Dunham 1962\n",
      "Economic commission for Europe, committee on Sustainable Energy- United Nations (ECE-UN), 1998, International Classification of in-Seam Coals: Energy 19, 41 pp.\n",
      "Economic commission for Europe, committee on Sustainable Energy- United Nations (ECE-UN), 1998, International Classification of in-Seam Coals: Energy 19, 41 pp; see also Neuendorf et al. 2005; http://en.wikipedia.org/wiki/Coal#Types_of_coal; Eberhard Lindner; Chemie für Ingenieure; Lindner Verlag Karlsruhe, S. 258\n",
      "Economic commission for Europe, committee on Sustainable Energy- United Nations (ECE-UN), 1998, International Classification of in-Seam Coals: Energy 19, 41 pp; see also http://en.wikipedia.org/wiki/Coal#Types_of_coal; Eberhard Lindner; Chemie für Ingenieure; Lindner Verlag Karlsruhe, S. 258\n",
      "Eggleton 2001\n",
      "Fairbridge and Bourgeois 1978\n",
      "Fette and Desmons (2007) (http://www.bgs.ac.uk/SCMR/)\n",
      "Fettes and Desmon, 2007; Best, M.G., 1982, Igneous and metamorphic petrology: New York, W.H. Freeman and company, p. 398; Neuendorf et al. 2005, p. 619.\n",
      "Fettes and Desmons (2007). See also Wimmenauer (1985), Winkler (1979) (D.R. Bowes (1989), The Encyclopedia of Igneous and Metamorphic Petrology; Van Nostrand Reinhold ISBN: 0-442-20623-2 ; wikipedia, http://en.wikipedia.org/wiki/Granulite accessed 5/30/09\n",
      "Fettes and Desmons, 2007, p195\n",
      "Gillespie and Styles 1999; LeMaitre et al. 2002\n",
      "Hallsworth and Knox 1999\n",
      "Hallsworth and Knox 1999; LeMaitre et al. 2002\n",
      "Hallsworth and Knox 1999; SLTTs 2004\n",
      "Hallsworth and Knox 1999; SLTTs 2004, Table 15-3-1\n",
      "Hallsworth and Knox, 1999\n",
      "HallsworthandKnox 1999, Jackson 1997\n",
      "IUGS SCMR 2007 (http://www.bgs.ac.uk/SCMR/)\n",
      "IUGS SCMR 2007 (http://www.bgs.ac.uk/SCMR/), SLTTm1.0 2004\n",
      "Jackson 1997\n",
      "Jackson 1997; SLTTs 2004\n",
      "LeMaitre et al. 2002\n",
      "LeMaitre et al. 2002, This vocabulary\n",
      "LeMaitre et al. 2002; Gillespie and Styles 1999\n",
      "LeMaitre et al. 2002; Murawski and Meyer 1998\n",
      "LeMaitre et al. 2002; This vocabulary\n",
      "Marshak and Mitra 1988\n",
      "NADM SLTT sedimentary, 2004\n",
      "NADM metamorphic rock vocabulary SLTTm1.0; Marshak and Mitra 1988\n",
      "NADM metamorphic rock vocabulary SLTTm1.0; Neuendorf et al. 2005\n",
      "NADM sedimentary rock vocabulary NADM sedimentary rock vocabulary (https://pubs.usgs.gov/of/2004/1451/sltt/appendixC/appendixC_pdf.zip)  SLTTs 2004,  after Bowles 1984\n",
      "NADM sedimentary rock vocabulary NADM sedimentary rock vocabulary (https://pubs.usgs.gov/of/2004/1451/sltt/appendixC/appendixC_pdf.zip)  SLTTs 2004,  after Bowles 1985\n",
      "NADM sedimentary rock vocabulary NADM sedimentary rock vocabulary (https://pubs.usgs.gov/of/2004/1451/sltt/appendixC/appendixC_pdf.zip)  SLTTs 2004,  after Bowles 1986\n",
      "NADM sedimentary rock vocabulary NADM sedimentary rock vocabulary (https://pubs.usgs.gov/of/2004/1451/sltt/appendixC/appendixC_pdf.zip)  SLTTs 2004,  after Bowles 1987\n",
      "NGMDB 2008; Hallsworth and Knox 1999\n",
      "Neuendorf et al 2005\n",
      "Neuendorf et al 2005; LeMaitre et al. 2002; Gillespie and Styles 1999\n",
      "Neuendorf et al, 2004, provisional SMR 2020-06-11\n",
      "Neuendorf et al. 2005\n",
      "Neuendorf et al. 2005 ; particle sizes defined from Krumbein phi scale (W C Krumbein and L L Sloss, Stratigraphy and Sedimentation, 2nd edition, Freeman, San Francisco, 1963; Krumbein and Pettijohn, 1938, Manual of Sedimentary Petrography: New York, Appleton Century Co., Inc.)\n",
      "Neuendorf et al. 2005; SLTTs 2004\n",
      "Neuendorf et al. 2005; SLTTs 2004; particle sizes defined from Krumbein phi scale (W C Krumbein and L L Sloss, Stratigraphy and Sedimentation, 2nd edition, Freeman, San Francisco, 1963; Krumbein and Pettijohn, 1938, Manual of Sedimentary Petrography: New York, Appleton Century Co., Inc.)\n",
      "Neuendorf et al. 2005; http://en.wikipedia.org/wiki/Oil_shale\n",
      "Neuendorf et al. 2005; http://en.wikipedia.org/wiki/Travertine; Chafetz, H.S., and Folk, R.L., 1984, Travertine: Depositional morphology an dthe bacterially constructed constituents: J. Sed. Petrology, v. 126, p.57-74.\n",
      "Pettijohn et al. 1987 referenced in Hallsworth and Knox 1999.\n",
      "Pettijohn et al. 1987 referenced in Hallsworth and Knox 1999; extrapolated from Folk, 1954, Figure 1a; particle sizes defined from Krumbein phi scale (W C Krumbein and L L Sloss, Stratigraphy and Sedimentation, 2nd edition, Freeman, San Francisco, 1963; Krumbein and Pettijohn, 1938, Manual of Sedimentary Petrography: New York, Appleton Century Co., Inc.)\n",
      "Pettijohn, Potter, Siever, 1972, Sand and Sandstone: New York, Springer Verlag, 681 p.\n",
      "Provisional SMR 2020-06-07\n",
      "SLTTm 2004\n",
      "SLTTm 2004; Neuendorf et al. 2005\n",
      "SLTTs 2004\n",
      "SLTTs 2004; Hallsworth and Knox 1999\n",
      "SLTTs 2004; Neuendorf et al. 2005\n",
      "SLTTs 2004; Neuendorf et al. 2005; particle size from Wentworth grade scale\n",
      "SLTTs 2004; Neuendorf et al. 2005; particle sizes defined from Krumbein phi scale (W C Krumbein and L L Sloss, Stratigraphy and Sedimentation, 2nd edition, Freeman, San Francisco, 1963; Krumbein and Pettijohn, 1938, Manual of Sedimentary Petrography: New York, Appleton Century Co., Inc.)\n",
      "SLTTs 2004; particle sizes defined from Krumbein phi scale (W C Krumbein and L L Sloss, Stratigraphy and Sedimentation, 2nd edition, Freeman, San Francisco, 1963; Krumbein and Pettijohn, 1938, Manual of Sedimentary Petrography: New York, Appleton Century Co., Inc.)\n",
      "Schmid 1981; LeMaitre et al. 2002\n",
      "Sibson, 1977; Scholz, 1990; Snoke and Tullis, 1998; Barker, 1998 Appendix II; NADM SLTTm, 2004\n",
      "Stöffler and Grieve 2007; Jackson 1997\n",
      "This vocabulary\n",
      "This vocabulary, based on Gillespie and Styles 1999\n",
      "This vocabulary; LeMaitre et al. 2002\n",
      "This vocabulary; SLTTm 2004\n",
      "Wentworth size scale\n",
      "Williams, P.J., 1994, Aust. J. Earth Science, v41, p381-382\n",
      "after Hallsworth and Knox 1999\n",
      "after LeMaitre et al. 2002\n",
      "after Neuendorf et al. 2005\n",
      "after SLTTs 2004, Hallsworth and Knox 1999\n",
      "based on Bates and Jackson 1987 and Hallsworth and Knox 1999\n",
      "based on LeMaitre et al. 2002\n",
      "based on NADM SLTT metamorphic\n",
      "based on NADM SLTT sedimentary; Hallsworth and Knox 1999\n",
      "based on SLTTs 2004; Neuendorf et al. 2005; particle size from Wentworth grade scale\n",
      "based on SLTTs 2004; Neuendorf et al. 2005; particle size from Wentworth grade scale.\n",
      "based on SLTTs 2004; Neuendorf et al. 2005; particle sizes defined from Krumbein phi scale (W C Krumbein and L L Sloss, Stratigraphy and Sedimentation, 2nd edition, Freeman, San Francisco, 1963; Krumbein and Pettijohn, 1938, Manual of Sedimentary Petrography: New York, Appleton Century Co., Inc.)\n",
      "definition of gravel from SLTTs 2004; particle sizes defined from Krumbein phi scale (W C Krumbein and L L Sloss, Stratigraphy and Sedimentation, 2nd edition, Freeman, San Francisco, 1963; Krumbein and Pettijohn, 1938, Manual of Sedimentary Petrography: New York, Appleton Century Co., Inc.)\n",
      "definition of mud from SLTTs 2004 muddy sediment; particle sizes defined from Krumbein phi scale (W C Krumbein and L L Sloss, Stratigraphy and Sedimentation, 2nd edition, Freeman, San Francisco, 1963; Krumbein and Pettijohn, 1938, Manual of Sedimentary Petrography: New York, Appleton Century Co., Inc.)\n",
      "definition of sand from SLTTs 2004 sandy sediment; particle sizes defined from Krumbein phi scale (W C Krumbein and L L Sloss, Stratigraphy and Sedimentation, 2nd edition, Freeman, San Francisco, 1963; Krumbein and Pettijohn, 1938, Manual of Sedimentary Petrography: New York, Appleton Century Co., Inc.)\n",
      "follow pattern used for clastic sand and mud categories, based on SLTTs 2004\n",
      "http://en.wikipedia.org/wiki/Basalt; Carmichael, I.S. Turner, F.J., Verhoogen, John, 1974, Igneous petrology: New York, McGraw HIll Book Co., p.42-43.\n",
      "http://en.wikipedia.org/wiki/Chalk; C.S. Harris, 2009, unpublished web page, http://www.geologyshop.co.uk/chalk.htm\n",
      "https://en.wikipedia.org/wiki/Argillic_alteration\n",
      "https://en.wikipedia.org/wiki/Greisen\n",
      "https://en.wikipedia.org/wiki/Phyllic_alteration\n",
      "https://en.wikipedia.org/wiki/Sericitic_alteration\n",
      "https://www.britannica.com/science/saussuritization\n",
      "modified from SLTTs 2004\n",
      "provisional by SMR 2020-06-07\n",
      "smr provisional 2020-06-07\n"
     ]
    }
   ],
   "source": [
    "for item in sorted(list(set(df['source']))):\n",
    "    print(item)"
   ]
  }
 ],
 "metadata": {
  "kernelspec": {
   "display_name": "geokb",
   "language": "python",
   "name": "python3"
  },
  "language_info": {
   "codemirror_mode": {
    "name": "ipython",
    "version": 3
   },
   "file_extension": ".py",
   "mimetype": "text/x-python",
   "name": "python",
   "nbconvert_exporter": "python",
   "pygments_lexer": "ipython3",
   "version": "3.11.0"
  }
 },
 "nbformat": 4,
 "nbformat_minor": 2
}
