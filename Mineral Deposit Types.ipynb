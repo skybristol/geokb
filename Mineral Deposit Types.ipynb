{
 "cells": [
  {
   "cell_type": "markdown",
   "metadata": {},
   "source": []
  },
  {
   "cell_type": "code",
   "execution_count": null,
   "metadata": {},
   "outputs": [],
   "source": [
    "import pandas as pd\n",
    "from wbmaker import WikibaseConnection\n",
    "import time"
   ]
  },
  {
   "cell_type": "code",
   "execution_count": null,
   "metadata": {},
   "outputs": [],
   "source": [
    "geokb = WikibaseConnection('GEOKB_CLOUD')"
   ]
  },
  {
   "cell_type": "code",
   "execution_count": null,
   "metadata": {},
   "outputs": [],
   "source": [
    "references = geokb.models.References()\n",
    "references.add(\n",
    "    geokb.datatypes.Item(\n",
    "        prop_nr=geokb.prop_lookup['knowledge source'],\n",
    "        value=geokb.ref_lookup['Mineral Deposit Classification Scheme - CMMI, Hofstra et. al.']\n",
    "    )\n",
    ")"
   ]
  },
  {
   "cell_type": "code",
   "execution_count": null,
   "metadata": {},
   "outputs": [],
   "source": [
    "cmmi_classification = pd.read_excel(\"data/cmmi_classification.xlsx\")"
   ]
  },
  {
   "cell_type": "code",
   "execution_count": null,
   "metadata": {},
   "outputs": [],
   "source": [
    "dep_env_items = []\n",
    "\n",
    "for dep_env in cmmi_classification['Deposit Environment'].unique():\n",
    "    item = geokb.wbi.item.new()\n",
    "    item.labels.set('en', f'{dep_env} mineral deposit environment')\n",
    "    item.descriptions.set('en', 'a mineral deposit environment classification value developed through the Critical Minerals Mapping Initiative')\n",
    "    item.aliases.set('en', dep_env)\n",
    "\n",
    "    item.claims.add(\n",
    "        geokb.datatypes.Item(\n",
    "            prop_nr=geokb.prop_lookup['instance of'],\n",
    "            value=geokb.class_lookup['mineral deposit environment'],\n",
    "            references=references\n",
    "        )\n",
    "    )\n",
    "\n",
    "    response = item.write(summary=\"Added new mineral deposit environment item\")\n",
    "    dep_env_items.append({\n",
    "        \"Deposit Environment\": dep_env,\n",
    "        \"dep_env_qid\": response.id\n",
    "    })"
   ]
  },
  {
   "cell_type": "code",
   "execution_count": null,
   "metadata": {},
   "outputs": [],
   "source": [
    "cmmi_classification = pd.merge(\n",
    "    left=cmmi_classification,\n",
    "    right=pd.DataFrame(dep_env_items),\n",
    "    how=\"left\",\n",
    "    on=\"Deposit Environment\"\n",
    ")"
   ]
  },
  {
   "cell_type": "code",
   "execution_count": null,
   "metadata": {},
   "outputs": [],
   "source": [
    "# dep_group_items = []\n",
    "\n",
    "for index, row in cmmi_classification[cmmi_classification.dep_group_qid.isnull()][[\"Deposit Group\",\"dep_env_qid\"]].drop_duplicates().iterrows():\n",
    "    item = geokb.wbi.item.new()\n",
    "    item.labels.set('en', f'{row[\"Deposit Group\"]} mineral deposit group')\n",
    "    item.aliases.set('en', row['Deposit Group'])\n",
    "    item.descriptions.set('en', 'a mineral deposit group classification name developed through the Critical Minerals Mapping Initiative')\n",
    "\n",
    "    item.claims.add(\n",
    "        geokb.datatypes.Item(\n",
    "            prop_nr=geokb.prop_lookup['instance of'],\n",
    "            value=geokb.class_lookup['mineral deposit group'],\n",
    "            references=references\n",
    "        )\n",
    "    )\n",
    "\n",
    "    item.claims.add(\n",
    "        geokb.datatypes.Item(\n",
    "            prop_nr=geokb.prop_lookup['mineral deposit environment'],\n",
    "            value=row.dep_env_qid,\n",
    "            references=references\n",
    "        )\n",
    "    )\n",
    "\n",
    "    try:\n",
    "        response = item.write(summary=\"Added new mineral deposit group item\")\n",
    "        dep_group_items.append({\n",
    "            \"Deposit Group\": row[\"Deposit Group\"],\n",
    "            \"dep_group_qid\": response.id\n",
    "        })\n",
    "    except:\n",
    "        pass"
   ]
  },
  {
   "cell_type": "code",
   "execution_count": null,
   "metadata": {},
   "outputs": [],
   "source": [
    "cmmi_classification = pd.merge(\n",
    "    left=cmmi_classification.drop(columns=[\"dep_group_qid\"]),\n",
    "    right=pd.DataFrame(dep_group_items),\n",
    "    how=\"left\",\n",
    "    on=\"Deposit Group\"\n",
    ")"
   ]
  },
  {
   "cell_type": "code",
   "execution_count": null,
   "metadata": {},
   "outputs": [],
   "source": [
    "for index, row in cmmi_classification.iterrows():\n",
    "    aliases = [row[\"Deposit Type\"]]\n",
    "    if isinstance(row.Synonyms, str):\n",
    "        aliases.extend([i.strip() for i in row.Synonyms.split(\",\")])\n",
    "    item = geokb.wbi.item.new()\n",
    "    item.labels.set('en', f'{row[\"Deposit Type\"]} mineral deposit type')\n",
    "    item.aliases.set('en', aliases)\n",
    "    item.descriptions.set('en', 'a mineral deposit type classification name developed through the Critical Minerals Mapping Initiative')\n",
    "\n",
    "    item.claims.add(\n",
    "        geokb.datatypes.Item(\n",
    "            prop_nr=geokb.prop_lookup['instance of'],\n",
    "            value=geokb.class_lookup['mineral deposit type'],\n",
    "            references=references\n",
    "        )\n",
    "    )\n",
    "\n",
    "    item.claims.add(\n",
    "        geokb.datatypes.Item(\n",
    "            prop_nr=geokb.prop_lookup['mineral deposit environment'],\n",
    "            value=row.dep_env_qid,\n",
    "            references=references\n",
    "        )\n",
    "    )\n",
    "\n",
    "    item.claims.add(\n",
    "        geokb.datatypes.Item(\n",
    "            prop_nr=geokb.prop_lookup['mineral deposit group'],\n",
    "            value=row.dep_group_qid,\n",
    "            references=references\n",
    "        )\n",
    "    )\n",
    "\n",
    "    try:\n",
    "        response = item.write(summary=\"Added new mineral deposit type item from source\")\n",
    "        print(row[\"Deposit Type\"], response.id)\n",
    "    except Exception as e:\n",
    "        print(e)"
   ]
  },
  {
   "attachments": {},
   "cell_type": "markdown",
   "metadata": {},
   "source": [
    "I needed to go back here and add in the property that indicates all of these (deposit environment, deposit group, and deposit type) are classifiers for mineral deposits. There's probably a more elegant way to handle this with an upsert type of approach that will check all of the claims for a given item and add in anything missing. I need to benchmark the time it takes to find items based on labels and instance of classification.\n",
    "\n",
    "I ran into a problem here with the Xentity Wikibase instance where I'm killing it with about 50 or so item write operations. The services all end up rebooting eventually, but we've got to get beyond that challenge. I'm experimenting with slowing down an already slow serial process."
   ]
  },
  {
   "cell_type": "code",
   "execution_count": null,
   "metadata": {},
   "outputs": [],
   "source": [
    "items = geokb.url_sparql_query(sparql_url=\"https://sparql.demo5280.com/proxy/wdqs/bigdata/namespace/wdq/sparql?query=SELECT%20%3Fitem%0AWHERE%20%7B%0A%20%20%3Fitem%20wdt%3AP2%20%3Fclasses%20.%0A%20%20VALUES%20%3Fclasses%20%7B%20wd%3AQ185%20wd%3AQ186%20wd%3AQ187%20%7D%0A%7D\")\n",
    "item_ids = [i['item']['value'].split('/')[-1] for i in items[\"results\"][\"bindings\"]]\n",
    "\n",
    "classfying_items = geokb.url_sparql_query(sparql_url=\"https://sparql.demo5280.com/proxy/wdqs/bigdata/namespace/wdq/sparql?query=SELECT%20%3Fitem%0AWHERE%20%7B%0A%20%20%3Fitem%20wdt%3AP61%20wd%3AQ445%20.%0A%7D\")\n",
    "classifying_item_ids = [i['item']['value'].split('/')[-1] for i in classfying_items[\"results\"][\"bindings\"]]\n",
    "\n",
    "for qid in item_ids:\n",
    "    if qid not in classifying_item_ids:\n",
    "        item = geokb.wbi.item.get(qid)\n",
    "        item.claims.add(\n",
    "            geokb.datatypes.Item(\n",
    "                prop_nr=geokb.prop_lookup['classifies'],\n",
    "                value=geokb.class_lookup['mineral deposit'],\n",
    "                references=references\n",
    "            )\n",
    "        )\n",
    "        item.write(summary=\"Added classifies mineral deposit statement\")\n",
    "        print(qid)\n",
    "        time.sleep(1)"
   ]
  }
 ],
 "metadata": {
  "kernelspec": {
   "display_name": "geokb",
   "language": "python",
   "name": "python3"
  },
  "language_info": {
   "codemirror_mode": {
    "name": "ipython",
    "version": 3
   },
   "file_extension": ".py",
   "mimetype": "text/x-python",
   "name": "python",
   "nbconvert_exporter": "python",
   "pygments_lexer": "ipython3",
   "version": "3.11.0"
  },
  "orig_nbformat": 4,
  "vscode": {
   "interpreter": {
    "hash": "8190544efbb2661b198b25bdaad02565f208a08fbde73732b97d4d23124b7122"
   }
  }
 },
 "nbformat": 4,
 "nbformat_minor": 2
}
