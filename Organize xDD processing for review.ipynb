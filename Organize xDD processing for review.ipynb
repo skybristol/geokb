{
 "cells": [
  {
   "attachments": {},
   "cell_type": "markdown",
   "metadata": {},
   "source": [
    "This notebook explores the process of retrieving information from xDD APIs for document entities in the GeoKB that have been run through xDD processing pipelines, organizing a summary of that information for review and discussion. The process needs a fair bit of work to be something we want to run in production, and we'll get this refined once we work out the best conventions for live use.\n",
    "\n",
    "The process uses a different Mediawiki Python client (mwclient) that I added into the wbmaker class, establishing the \"mw_site\" as an authenticated end point we can operate against. I also used another Python package here, tabulate, that is able to format dataframes into different table encodings, including one for mediawiki.\n",
    "\n",
    "So far, this method does not seem to be working all that well in terms of actual engagement with SMEs. I'll likely abandon it, but will come back to reevaluate."
   ]
  },
  {
   "cell_type": "code",
   "execution_count": 1,
   "metadata": {},
   "outputs": [],
   "source": [
    "import os"
   ]
  },
  {
   "cell_type": "code",
   "execution_count": 1,
   "metadata": {},
   "outputs": [],
   "source": [
    "import requests\n",
    "from wbmaker import WikibaseConnection\n",
    "import pandas as pd\n",
    "from tabulate import tabulate"
   ]
  },
  {
   "cell_type": "code",
   "execution_count": 2,
   "metadata": {},
   "outputs": [],
   "source": [
    "geokb = WikibaseConnection('GEOKB_CLOUD')"
   ]
  },
  {
   "attachments": {},
   "cell_type": "markdown",
   "metadata": {},
   "source": [
    "Here I get a small sampling of GeoKB items that have gddid claims. We can operate something like this on any item with a gddid and will continue working up what all we want to be fed back to the GeoKB from that process."
   ]
  },
  {
   "cell_type": "code",
   "execution_count": 3,
   "metadata": {},
   "outputs": [
    {
     "data": {
      "text/html": [
       "<div>\n",
       "<style scoped>\n",
       "    .dataframe tbody tr th:only-of-type {\n",
       "        vertical-align: middle;\n",
       "    }\n",
       "\n",
       "    .dataframe tbody tr th {\n",
       "        vertical-align: top;\n",
       "    }\n",
       "\n",
       "    .dataframe thead th {\n",
       "        text-align: right;\n",
       "    }\n",
       "</style>\n",
       "<table border=\"1\" class=\"dataframe\">\n",
       "  <thead>\n",
       "    <tr style=\"text-align: right;\">\n",
       "      <th></th>\n",
       "      <th>item</th>\n",
       "      <th>gddid</th>\n",
       "      <th>qid</th>\n",
       "    </tr>\n",
       "  </thead>\n",
       "  <tbody>\n",
       "    <tr>\n",
       "      <th>0</th>\n",
       "      <td>https://geokb.wikibase.cloud/entity/Q28507</td>\n",
       "      <td>620c0472ad0e9c819b01e9d8</td>\n",
       "      <td>Q28507</td>\n",
       "    </tr>\n",
       "    <tr>\n",
       "      <th>1</th>\n",
       "      <td>https://geokb.wikibase.cloud/entity/Q28508</td>\n",
       "      <td>620ec508ad0e9c819b0ed48d</td>\n",
       "      <td>Q28508</td>\n",
       "    </tr>\n",
       "    <tr>\n",
       "      <th>2</th>\n",
       "      <td>https://geokb.wikibase.cloud/entity/Q28505</td>\n",
       "      <td>620f06ecad0e9c819b0fffef</td>\n",
       "      <td>Q28505</td>\n",
       "    </tr>\n",
       "    <tr>\n",
       "      <th>3</th>\n",
       "      <td>https://geokb.wikibase.cloud/entity/Q28504</td>\n",
       "      <td>620f2ebaad0e9c819b109562</td>\n",
       "      <td>Q28504</td>\n",
       "    </tr>\n",
       "    <tr>\n",
       "      <th>4</th>\n",
       "      <td>https://geokb.wikibase.cloud/entity/Q28506</td>\n",
       "      <td>620f3149ad0e9c819b10a044</td>\n",
       "      <td>Q28506</td>\n",
       "    </tr>\n",
       "  </tbody>\n",
       "</table>\n",
       "</div>"
      ],
      "text/plain": [
       "                                         item                     gddid  \\\n",
       "0  https://geokb.wikibase.cloud/entity/Q28507  620c0472ad0e9c819b01e9d8   \n",
       "1  https://geokb.wikibase.cloud/entity/Q28508  620ec508ad0e9c819b0ed48d   \n",
       "2  https://geokb.wikibase.cloud/entity/Q28505  620f06ecad0e9c819b0fffef   \n",
       "3  https://geokb.wikibase.cloud/entity/Q28504  620f2ebaad0e9c819b109562   \n",
       "4  https://geokb.wikibase.cloud/entity/Q28506  620f3149ad0e9c819b10a044   \n",
       "\n",
       "      qid  \n",
       "0  Q28507  \n",
       "1  Q28508  \n",
       "2  Q28505  \n",
       "3  Q28504  \n",
       "4  Q28506  "
      ]
     },
     "execution_count": 3,
     "metadata": {},
     "output_type": "execute_result"
    }
   ],
   "source": [
    "gdd_items = geokb.url_sparql_query(\n",
    "    sparql_url=\"https://geokb.wikibase.cloud/query/sparql?query=PREFIX%20wdt%3A%20%3Chttps%3A%2F%2Fgeokb.wikibase.cloud%2Fprop%2Fdirect%2F%3E%0A%0ASELECT%20%3Fitem%20%3Fgddid%0AWHERE%20%7B%0A%20%20%3Fitem%20wdt%3AP93%20%3Fgddid%20.%0A%7D%0ALIMIT%2010\",\n",
    "    output_format=\"dataframe\"\n",
    ")\n",
    "\n",
    "gdd_items[\"qid\"] = gdd_items[\"item\"].apply(lambda x: x.split(\"/\")[-1])\n",
    "gdd_items.head()"
   ]
  },
  {
   "attachments": {},
   "cell_type": "markdown",
   "metadata": {},
   "source": [
    "One of the things we want to do here is link mineral names picked up from xDD indexing to mineral commodity entities in the GeoKB. Here we get the entities identified as commodities and tee up a simple name matching structure."
   ]
  },
  {
   "cell_type": "code",
   "execution_count": 4,
   "metadata": {},
   "outputs": [
    {
     "data": {
      "text/html": [
       "<div>\n",
       "<style scoped>\n",
       "    .dataframe tbody tr th:only-of-type {\n",
       "        vertical-align: middle;\n",
       "    }\n",
       "\n",
       "    .dataframe tbody tr th {\n",
       "        vertical-align: top;\n",
       "    }\n",
       "\n",
       "    .dataframe thead th {\n",
       "        text-align: right;\n",
       "    }\n",
       "</style>\n",
       "<table border=\"1\" class=\"dataframe\">\n",
       "  <thead>\n",
       "    <tr style=\"text-align: right;\">\n",
       "      <th></th>\n",
       "      <th>item</th>\n",
       "      <th>commodity_name</th>\n",
       "    </tr>\n",
       "  </thead>\n",
       "  <tbody>\n",
       "    <tr>\n",
       "      <th>0</th>\n",
       "      <td>https://geokb.wikibase.cloud/entity/Q291</td>\n",
       "      <td>platinum-group elements</td>\n",
       "    </tr>\n",
       "    <tr>\n",
       "      <th>1</th>\n",
       "      <td>https://geokb.wikibase.cloud/entity/Q293</td>\n",
       "      <td>aluminum</td>\n",
       "    </tr>\n",
       "    <tr>\n",
       "      <th>2</th>\n",
       "      <td>https://geokb.wikibase.cloud/entity/Q295</td>\n",
       "      <td>antimony</td>\n",
       "    </tr>\n",
       "    <tr>\n",
       "      <th>3</th>\n",
       "      <td>https://geokb.wikibase.cloud/entity/Q297</td>\n",
       "      <td>arsenic</td>\n",
       "    </tr>\n",
       "    <tr>\n",
       "      <th>4</th>\n",
       "      <td>https://geokb.wikibase.cloud/entity/Q302</td>\n",
       "      <td>bismuth</td>\n",
       "    </tr>\n",
       "  </tbody>\n",
       "</table>\n",
       "</div>"
      ],
      "text/plain": [
       "                                       item           commodity_name\n",
       "0  https://geokb.wikibase.cloud/entity/Q291  platinum-group elements\n",
       "1  https://geokb.wikibase.cloud/entity/Q293                 aluminum\n",
       "2  https://geokb.wikibase.cloud/entity/Q295                 antimony\n",
       "3  https://geokb.wikibase.cloud/entity/Q297                  arsenic\n",
       "4  https://geokb.wikibase.cloud/entity/Q302                  bismuth"
      ]
     },
     "execution_count": 4,
     "metadata": {},
     "output_type": "execute_result"
    }
   ],
   "source": [
    "geokb_commodities = geokb.url_sparql_query(\n",
    "    sparql_url=\"https://geokb.wikibase.cloud/query/sparql?query=PREFIX%20wd%3A%20%3Chttps%3A%2F%2Fgeokb.wikibase.cloud%2Fentity%2F%3E%0APREFIX%20wdt%3A%20%3Chttps%3A%2F%2Fgeokb.wikibase.cloud%2Fprop%2Fdirect%2F%3E%0A%0ASELECT%20%3Fitem%20%3FitemLabel%20%3FitemAltLabel%0AWHERE%20%7B%0A%20%20%3Fitem%20wdt%3AP1%20wd%3AQ406%20.%0A%20%20SERVICE%20wikibase%3Alabel%20%7B%20bd%3AserviceParam%20wikibase%3Alanguage%20%22en%22%20.%20%7D%0A%7D\",\n",
    "    output_format=\"dataframe\"\n",
    ")\n",
    "\n",
    "geokb_commodities[\"qid\"] = geokb_commodities[\"item\"].apply(lambda x: x.split(\"/\")[-1])\n",
    "geokb_commodities[\"commodity_name_lower\"] = geokb_commodities[\"itemLabel\"].str.lower()\n",
    "geokb_commodities[\"commodity_alt_names\"] = geokb_commodities[\"itemAltLabel\"].apply(lambda x: x.split(\",\") if x else None)\n",
    "\n",
    "geokb_commodity_lookup = pd.concat([\n",
    "    geokb_commodities[[\"item\",\"itemLabel\"]].rename(columns={\"itemLabel\": \"commodity_name\"}),\n",
    "    geokb_commodities[[\"item\",\"commodity_name_lower\"]].rename(columns={\"commodity_name_lower\": \"commodity_name\"}),\n",
    "    geokb_commodities[[\"item\",\"commodity_alt_names\"]].explode(\"commodity_alt_names\").rename(columns={\"commodity_alt_names\": \"commodity_name\"})\n",
    "])\n",
    "\n",
    "geokb_commodity_lookup.drop_duplicates(inplace=True)\n",
    "\n",
    "geokb_commodity_lookup.head()"
   ]
  },
  {
   "attachments": {},
   "cell_type": "markdown",
   "metadata": {},
   "source": [
    "This is a start to functional logic we can work through as we decide how this kind of \"tee up for review\" process should operate and what it should lay out for discussion."
   ]
  },
  {
   "cell_type": "code",
   "execution_count": 5,
   "metadata": {},
   "outputs": [],
   "source": [
    "def gdd_terms(gddid, dict_id=\"11\"):\n",
    "    xdd_api_terms = f\"https://geodeepdive.org/api/terms?docid={gddid}&dict_id={dict_id}\"\n",
    "\n",
    "    xdd_response_terms = requests.get(xdd_api_terms).json()\n",
    "    # Need to error trap this, of course\n",
    "    df_xdd_terms = pd.DataFrame(xdd_response_terms[\"success\"][\"data\"])\n",
    "    df_xdd_terms[\"term_lower\"] = df_xdd_terms[\"term\"].str.lower()\n",
    "\n",
    "    return df_xdd_terms\n",
    "\n",
    "def gdd_discussion_content(qid, gddid):\n",
    "    term_api_url = f\"https://geodeepdive.org/api/terms?docid={gddid}&dict_id=11\"\n",
    "\n",
    "    texts = []\n",
    "\n",
    "    texts.append(\"= Mineral Name Hits and Commodity Linkages =\")\n",
    "    texts.append(f\"The following table shows the results of [{term_api_url} xDD indexing of this document] using a dictionary of mineral names. The table shows the number of hits for each term and a potential linkage to a corresponding mineral commodity entity in the GeoKB. Before establishing these linkages programmatically, we are soliciting feedback on a representative sample for this process. Please include your comments by editing the comments section below.\")\n",
    "\n",
    "    mineral_terms = gdd_terms(gddid=gddid)\n",
    "\n",
    "    geokb_term_matches = pd.merge(\n",
    "        left=mineral_terms[[\"term\",\"n_hits\",\"last_updated\",\"term_lower\"]].rename(columns={\"term_lower\": \"commodity_name\"}),\n",
    "        right=geokb_commodity_lookup,\n",
    "        how=\"left\",\n",
    "        on=\"commodity_name\"\n",
    "    )\n",
    "\n",
    "    geokb_term_matches.fillna(value='not yet identified as a commodity in GeoKB', inplace=True)\n",
    "\n",
    "    texts.append(\n",
    "        tabulate(\n",
    "            geokb_term_matches[[\"term\",\"n_hits\",\"item\",\"last_updated\"]].sort_values(\"n_hits\", ascending=False),\n",
    "            headers=[\"Mineral Term\",\"Number of Occurrences\",\"Proposed Commodity Linkage\",\"Last Updated\"],\n",
    "            tablefmt=\"mediawiki\",\n",
    "            showindex=False\n",
    "        )\n",
    "    )\n",
    "\n",
    "    for index, row in geokb_term_matches[[\"term\",\"n_hits\",\"item\"]].sort_values(\"n_hits\", ascending=False)[:5].iterrows():\n",
    "        xdd_api_snippets = f\"https://geodeepdive.org/api/snippets?docid={gddid}&dict_id=11&term={row['term']}\"\n",
    "        xdd_response_snippets = requests.get(xdd_api_snippets).json()\n",
    "\n",
    "        if row[\"item\"].startswith('https://'):\n",
    "            texts.append(f\"== [[Item:{row['item'].split('/')[-1]}|{row['term']}]] ==\")\n",
    "        else:\n",
    "            texts.append(f\"== {row['term']} ==\")\n",
    "        for snippet in xdd_response_snippets[\"success\"][\"data\"][0][\"highlight\"]:\n",
    "            snippet_text = snippet.replace('<em class=\"hl\">', \"''\").replace('</em>', \"''\")\n",
    "            texts.append(f\"* {snippet_text}\")\n",
    "    \n",
    "    texts.append(\"= Discussion =\")\n",
    "    texts.append('In posting comments, please include your signature using the wiki markup \"signature and timestamp.\" You can also include subheadings under this section for comments related to a particular topic to help facilitate discussion.')\n",
    "\n",
    "    page = geokb.mw_site.pages[f'Item_talk:{qid}']\n",
    "    response = page.edit(\"\\n\".join(texts), summary=\"Added information on xDD derived minerals for review to discussion page\")\n",
    "    return response"
   ]
  },
  {
   "attachments": {},
   "cell_type": "markdown",
   "metadata": {},
   "source": [
    "Now, we loop through our entities containing gddid values and run the function to grab what we want to examine from the xDD APIs and lay it out in wiki markup for evaluation and discussion. We could operate this much more as some kind of lambda function that worked over a subset of items or even every item if needed."
   ]
  },
  {
   "cell_type": "code",
   "execution_count": 6,
   "metadata": {},
   "outputs": [
    {
     "data": {
      "text/plain": [
       "OrderedDict([('result', 'Success'),\n",
       "             ('pageid', 54946),\n",
       "             ('title', 'Item talk:Q28507'),\n",
       "             ('contentmodel', 'wikitext'),\n",
       "             ('oldrevid', 118260),\n",
       "             ('newrevid', 118261),\n",
       "             ('newtimestamp', '2023-06-13T20:39:36Z'),\n",
       "             ('watched', '')])"
      ]
     },
     "metadata": {},
     "output_type": "display_data"
    },
    {
     "data": {
      "text/plain": [
       "OrderedDict([('new', ''),\n",
       "             ('result', 'Success'),\n",
       "             ('pageid', 54947),\n",
       "             ('title', 'Item talk:Q28508'),\n",
       "             ('contentmodel', 'wikitext'),\n",
       "             ('oldrevid', 0),\n",
       "             ('newrevid', 118262),\n",
       "             ('newtimestamp', '2023-06-13T20:39:40Z'),\n",
       "             ('watched', '')])"
      ]
     },
     "metadata": {},
     "output_type": "display_data"
    },
    {
     "data": {
      "text/plain": [
       "OrderedDict([('new', ''),\n",
       "             ('result', 'Success'),\n",
       "             ('pageid', 54948),\n",
       "             ('title', 'Item talk:Q28505'),\n",
       "             ('contentmodel', 'wikitext'),\n",
       "             ('oldrevid', 0),\n",
       "             ('newrevid', 118263),\n",
       "             ('newtimestamp', '2023-06-13T20:39:44Z'),\n",
       "             ('watched', '')])"
      ]
     },
     "metadata": {},
     "output_type": "display_data"
    },
    {
     "data": {
      "text/plain": [
       "OrderedDict([('new', ''),\n",
       "             ('result', 'Success'),\n",
       "             ('pageid', 54949),\n",
       "             ('title', 'Item talk:Q28504'),\n",
       "             ('contentmodel', 'wikitext'),\n",
       "             ('oldrevid', 0),\n",
       "             ('newrevid', 118264),\n",
       "             ('newtimestamp', '2023-06-13T20:39:49Z'),\n",
       "             ('watched', '')])"
      ]
     },
     "metadata": {},
     "output_type": "display_data"
    },
    {
     "data": {
      "text/plain": [
       "OrderedDict([('new', ''),\n",
       "             ('result', 'Success'),\n",
       "             ('pageid', 54950),\n",
       "             ('title', 'Item talk:Q28506'),\n",
       "             ('contentmodel', 'wikitext'),\n",
       "             ('oldrevid', 0),\n",
       "             ('newrevid', 118265),\n",
       "             ('newtimestamp', '2023-06-13T20:39:53Z'),\n",
       "             ('watched', '')])"
      ]
     },
     "metadata": {},
     "output_type": "display_data"
    },
    {
     "data": {
      "text/plain": [
       "OrderedDict([('new', ''),\n",
       "             ('result', 'Success'),\n",
       "             ('pageid', 54951),\n",
       "             ('title', 'Item talk:Q28502'),\n",
       "             ('contentmodel', 'wikitext'),\n",
       "             ('oldrevid', 0),\n",
       "             ('newrevid', 118266),\n",
       "             ('newtimestamp', '2023-06-13T20:39:56Z'),\n",
       "             ('watched', '')])"
      ]
     },
     "metadata": {},
     "output_type": "display_data"
    },
    {
     "data": {
      "text/plain": [
       "OrderedDict([('new', ''),\n",
       "             ('result', 'Success'),\n",
       "             ('pageid', 54952),\n",
       "             ('title', 'Item talk:Q28503'),\n",
       "             ('contentmodel', 'wikitext'),\n",
       "             ('oldrevid', 0),\n",
       "             ('newrevid', 118267),\n",
       "             ('newtimestamp', '2023-06-13T20:39:59Z'),\n",
       "             ('watched', '')])"
      ]
     },
     "metadata": {},
     "output_type": "display_data"
    },
    {
     "data": {
      "text/plain": [
       "OrderedDict([('new', ''),\n",
       "             ('result', 'Success'),\n",
       "             ('pageid', 54953),\n",
       "             ('title', 'Item talk:Q28510'),\n",
       "             ('contentmodel', 'wikitext'),\n",
       "             ('oldrevid', 0),\n",
       "             ('newrevid', 118268),\n",
       "             ('newtimestamp', '2023-06-13T20:40:04Z'),\n",
       "             ('watched', '')])"
      ]
     },
     "metadata": {},
     "output_type": "display_data"
    },
    {
     "data": {
      "text/plain": [
       "OrderedDict([('new', ''),\n",
       "             ('result', 'Success'),\n",
       "             ('pageid', 54954),\n",
       "             ('title', 'Item talk:Q28511'),\n",
       "             ('contentmodel', 'wikitext'),\n",
       "             ('oldrevid', 0),\n",
       "             ('newrevid', 118269),\n",
       "             ('newtimestamp', '2023-06-13T20:40:08Z'),\n",
       "             ('watched', '')])"
      ]
     },
     "metadata": {},
     "output_type": "display_data"
    },
    {
     "data": {
      "text/plain": [
       "OrderedDict([('new', ''),\n",
       "             ('result', 'Success'),\n",
       "             ('pageid', 54955),\n",
       "             ('title', 'Item talk:Q28513'),\n",
       "             ('contentmodel', 'wikitext'),\n",
       "             ('oldrevid', 0),\n",
       "             ('newrevid', 118270),\n",
       "             ('newtimestamp', '2023-06-13T20:40:11Z'),\n",
       "             ('watched', '')])"
      ]
     },
     "metadata": {},
     "output_type": "display_data"
    }
   ],
   "source": [
    "for index, row in gdd_items.iterrows():\n",
    "    response = gdd_discussion_content(\n",
    "        qid=row[\"qid\"],\n",
    "        gddid=row[\"gddid\"]\n",
    "    )\n",
    "    display(response)\n"
   ]
  }
 ],
 "metadata": {
  "kernelspec": {
   "display_name": "geokb",
   "language": "python",
   "name": "python3"
  },
  "language_info": {
   "codemirror_mode": {
    "name": "ipython",
    "version": 3
   },
   "file_extension": ".py",
   "mimetype": "text/x-python",
   "name": "python",
   "nbconvert_exporter": "python",
   "pygments_lexer": "ipython3",
   "version": "3.11.0"
  },
  "orig_nbformat": 4
 },
 "nbformat": 4,
 "nbformat_minor": 2
}
