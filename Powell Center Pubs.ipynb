{
 "cells": [
  {
   "cell_type": "markdown",
   "metadata": {},
   "source": [
    "This notebook starts the work of identifying specific publications associated with the Powell Center to produce GeoKB representations for meta analysis."
   ]
  },
  {
   "cell_type": "code",
   "execution_count": 5,
   "metadata": {},
   "outputs": [],
   "source": [
    "import requests\n",
    "import pandas as pd"
   ]
  },
  {
   "cell_type": "code",
   "execution_count": 2,
   "metadata": {},
   "outputs": [],
   "source": [
    "pc_pubs_api = \"https://www.sciencebase.gov/catalog/items?folderId=4f4e476be4b07f02db47e144&filter0=browseCategory%3DPublication&max=300&format=json&fields=id,title,identifiers\"\n",
    "\n",
    "pc_pubs_items = requests.get(pc_pubs_api).json()"
   ]
  },
  {
   "cell_type": "code",
   "execution_count": 9,
   "metadata": {},
   "outputs": [],
   "source": [
    "pc_pubs_identifiers = []\n",
    "\n",
    "for item in pc_pubs_items[\"items\"]:\n",
    "    pc_item = {\n",
    "        \"id\": item[\"id\"],\n",
    "        \"doi\": None,\n",
    "        \"pw_id\": None\n",
    "    }\n",
    "    if \"identifiers\" in item:\n",
    "        pc_item[\"pw_id\"] = next((i[\"key\"] for i in item[\"identifiers\"] if i[\"type\"] == \"local-index\"), None)\n",
    "        if pc_item[\"pw_id\"] is None:\n",
    "            pc_item[\"pw_id\"] = next((i[\"key\"] for i in item[\"identifiers\"] if i[\"type\"] == \"local-pk\"), None)\n",
    "        pc_item[\"doi\"] = next((i[\"key\"] for i in item[\"identifiers\"] if i[\"type\"] == \"doi\"), None)\n",
    "        if pc_item[\"doi\"] is None:\n",
    "            pc_item[\"doi\"] = next((i[\"key\"] for i in item[\"identifiers\"] if i[\"type\"] == \"DOI\"), None)\n",
    "\n",
    "    pc_pubs_identifiers.append(pc_item)"
   ]
  },
  {
   "cell_type": "code",
   "execution_count": 10,
   "metadata": {},
   "outputs": [],
   "source": [
    "df_pc_pubs = pd.DataFrame(pc_pubs_identifiers)"
   ]
  },
  {
   "cell_type": "code",
   "execution_count": 11,
   "metadata": {},
   "outputs": [
    {
     "data": {
      "text/html": [
       "<div>\n",
       "<style scoped>\n",
       "    .dataframe tbody tr th:only-of-type {\n",
       "        vertical-align: middle;\n",
       "    }\n",
       "\n",
       "    .dataframe tbody tr th {\n",
       "        vertical-align: top;\n",
       "    }\n",
       "\n",
       "    .dataframe thead th {\n",
       "        text-align: right;\n",
       "    }\n",
       "</style>\n",
       "<table border=\"1\" class=\"dataframe\">\n",
       "  <thead>\n",
       "    <tr style=\"text-align: right;\">\n",
       "      <th></th>\n",
       "      <th>id</th>\n",
       "      <th>doi</th>\n",
       "      <th>pw_id</th>\n",
       "    </tr>\n",
       "  </thead>\n",
       "  <tbody>\n",
       "    <tr>\n",
       "      <th>4</th>\n",
       "      <td>51145288e4b0a9ee4115bb89</td>\n",
       "      <td>None</td>\n",
       "      <td>None</td>\n",
       "    </tr>\n",
       "    <tr>\n",
       "      <th>5</th>\n",
       "      <td>5114528ae4b0a9ee4115bb97</td>\n",
       "      <td>None</td>\n",
       "      <td>None</td>\n",
       "    </tr>\n",
       "    <tr>\n",
       "      <th>7</th>\n",
       "      <td>526ad5b8e4b0be4db9fbf94c</td>\n",
       "      <td>None</td>\n",
       "      <td>None</td>\n",
       "    </tr>\n",
       "    <tr>\n",
       "      <th>12</th>\n",
       "      <td>54807c74e4b0ac64d148df86</td>\n",
       "      <td>None</td>\n",
       "      <td>None</td>\n",
       "    </tr>\n",
       "    <tr>\n",
       "      <th>18</th>\n",
       "      <td>5114528ee4b0a9ee4115bbc1</td>\n",
       "      <td>None</td>\n",
       "      <td>None</td>\n",
       "    </tr>\n",
       "    <tr>\n",
       "      <th>...</th>\n",
       "      <td>...</td>\n",
       "      <td>...</td>\n",
       "      <td>...</td>\n",
       "    </tr>\n",
       "    <tr>\n",
       "      <th>238</th>\n",
       "      <td>526ad5e5e4b0be4db9fbf953</td>\n",
       "      <td>None</td>\n",
       "      <td>None</td>\n",
       "    </tr>\n",
       "    <tr>\n",
       "      <th>240</th>\n",
       "      <td>52a20490e4b02938ec066acf</td>\n",
       "      <td>None</td>\n",
       "      <td>None</td>\n",
       "    </tr>\n",
       "    <tr>\n",
       "      <th>241</th>\n",
       "      <td>52a2048fe4b02938ec066aaf</td>\n",
       "      <td>None</td>\n",
       "      <td>None</td>\n",
       "    </tr>\n",
       "    <tr>\n",
       "      <th>242</th>\n",
       "      <td>52ded7d7e4b0005d036ffc3d</td>\n",
       "      <td>None</td>\n",
       "      <td>None</td>\n",
       "    </tr>\n",
       "    <tr>\n",
       "      <th>247</th>\n",
       "      <td>54cbaad4e4b01fabb3001024</td>\n",
       "      <td>None</td>\n",
       "      <td>None</td>\n",
       "    </tr>\n",
       "  </tbody>\n",
       "</table>\n",
       "<p>87 rows × 3 columns</p>\n",
       "</div>"
      ],
      "text/plain": [
       "                           id   doi pw_id\n",
       "4    51145288e4b0a9ee4115bb89  None  None\n",
       "5    5114528ae4b0a9ee4115bb97  None  None\n",
       "7    526ad5b8e4b0be4db9fbf94c  None  None\n",
       "12   54807c74e4b0ac64d148df86  None  None\n",
       "18   5114528ee4b0a9ee4115bbc1  None  None\n",
       "..                        ...   ...   ...\n",
       "238  526ad5e5e4b0be4db9fbf953  None  None\n",
       "240  52a20490e4b02938ec066acf  None  None\n",
       "241  52a2048fe4b02938ec066aaf  None  None\n",
       "242  52ded7d7e4b0005d036ffc3d  None  None\n",
       "247  54cbaad4e4b01fabb3001024  None  None\n",
       "\n",
       "[87 rows x 3 columns]"
      ]
     },
     "execution_count": 11,
     "metadata": {},
     "output_type": "execute_result"
    }
   ],
   "source": [
    "df_pc_pubs[df_pc_pubs.doi.isnull() & df_pc_pubs.pw_id.isnull()]"
   ]
  }
 ],
 "metadata": {
  "kernelspec": {
   "display_name": "geokb",
   "language": "python",
   "name": "python3"
  },
  "language_info": {
   "codemirror_mode": {
    "name": "ipython",
    "version": 3
   },
   "file_extension": ".py",
   "mimetype": "text/x-python",
   "name": "python",
   "nbconvert_exporter": "python",
   "pygments_lexer": "ipython3",
   "version": "3.11.0"
  },
  "orig_nbformat": 4
 },
 "nbformat": 4,
 "nbformat_minor": 2
}
